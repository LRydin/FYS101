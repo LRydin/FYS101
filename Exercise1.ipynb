{
 "cells": [
  {
   "cell_type": "code",
   "execution_count": null,
   "id": "6afebf70",
   "metadata": {},
   "outputs": [],
   "source": [
    "import fys101 as fys"
   ]
  },
  {
   "cell_type": "code",
   "execution_count": null,
   "id": "ceedae8f",
   "metadata": {
    "scrolled": true
   },
   "outputs": [],
   "source": [
    "fys.projectile_motion()"
   ]
  },
  {
   "cell_type": "code",
   "execution_count": null,
   "id": "6b14b544",
   "metadata": {},
   "outputs": [],
   "source": []
  }
 ],
 "metadata": {
  "kernelspec": {
   "display_name": "Python 3 (ipykernel)",
   "language": "python",
   "name": "python3"
  },
  "language_info": {
   "codemirror_mode": {
    "name": "ipython",
    "version": 3
   },
   "file_extension": ".py",
   "mimetype": "text/x-python",
   "name": "python",
   "nbconvert_exporter": "python",
   "pygments_lexer": "ipython3",
   "version": "3.9.15"
  }
 },
 "nbformat": 4,
 "nbformat_minor": 5
}
